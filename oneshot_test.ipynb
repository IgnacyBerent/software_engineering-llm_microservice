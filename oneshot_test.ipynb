{
 "cells": [
  {
   "cell_type": "code",
   "execution_count": 1,
   "metadata": {},
   "outputs": [],
   "source": [
    "from langchain_ollama import OllamaLLM\n",
    "from langchain.prompts import PromptTemplate\n",
    "from langchain.prompts.few_shot import FewShotPromptTemplate\n",
    "from langchain_core.runnables import RunnableSequence\n",
    "from langchain_core.output_parsers.json import SimpleJsonOutputParser"
   ]
  },
  {
   "cell_type": "code",
   "execution_count": 12,
   "metadata": {},
   "outputs": [],
   "source": [
    "example = [\n",
    "    {\n",
    "        \"Conversation\": \"\"\"\n",
    "            User1: Hi, how are you?\n",
    "            User2: I'm good, thanks! How about you?\n",
    "            User1: I'm doing well. Did you finish the project?\n",
    "            User2: Yes, I submitted it yesterday.\n",
    "            User1: Great! Let's discuss the next steps.\n",
    "        \"\"\",\n",
    "        \"Summary\": \"\"\"\n",
    "            User 2 announced that he finished the project\n",
    "        \"\"\",\n",
    "    }\n",
    "]"
   ]
  },
  {
   "cell_type": "code",
   "execution_count": 13,
   "metadata": {},
   "outputs": [],
   "source": [
    "template_example = \"\"\"\n",
    "Summarize shortly the most important aspects of the plot of the following conversation between multiple users:\n",
    "\n",
    "{Conversation}\n",
    "\n",
    "Summary:\n",
    "{Summary}\n",
    "\"\"\""
   ]
  },
  {
   "cell_type": "code",
   "execution_count": 14,
   "metadata": {},
   "outputs": [],
   "source": [
    "example_prompt = PromptTemplate(\n",
    "        input_variables=[\"Conversation\", \"Summary\"],\n",
    "        template=template_example\n",
    "        )"
   ]
  },
  {
   "cell_type": "code",
   "execution_count": 15,
   "metadata": {},
   "outputs": [
    {
     "name": "stdout",
     "output_type": "stream",
     "text": [
      "\n",
      "Summarize shortly the most important aspects of the plot of the following conversation between multiple users:\n",
      "\n",
      "\n",
      "            User1: Hi, how are you?\n",
      "            User2: I'm good, thanks! How about you?\n",
      "            User1: I'm doing well. Did you finish the project?\n",
      "            User2: Yes, I submitted it yesterday.\n",
      "            User1: Great! Let's discuss the next steps.\n",
      "        \n",
      "\n",
      "Summary:\n",
      "\n",
      "            User 2 announced that he finished the project\n",
      "        \n",
      "\n"
     ]
    }
   ],
   "source": [
    "print(example_prompt.format(**example[0]))"
   ]
  },
  {
   "cell_type": "code",
   "execution_count": 18,
   "metadata": {},
   "outputs": [],
   "source": [
    "prompt = FewShotPromptTemplate(\n",
    "    examples=example, \n",
    "    example_prompt=example_prompt,\n",
    "    suffix=\"\"\"\n",
    "        Summarize shortly the most important aspects of the plot of the following conversation between multiple users:\n",
    "        {input}\n",
    "    \"\"\",\n",
    "    input_variables=[\"input\"],\n",
    "    )"
   ]
  },
  {
   "cell_type": "code",
   "execution_count": 19,
   "metadata": {},
   "outputs": [],
   "source": [
    "input_example = \"\"\"\n",
    "User1: Python has the worst package manager I've worked with, IMO.\n",
    "User2: Npm?\n",
    "User3: What's so bad about npm?\n",
    "User2: I used npx CRA yesterday, and three errors popped up on a stable version.\n",
    "User1: I also have no clue what problem Anaconda is supposed to solve, because from my experience, it's even more complicated than venv.\n",
    "User3: Well, you're answering your own question.\n",
    "User3: Just don't use CRA.\n",
    "User3: Vite.\n",
    "User3: npm create vite@latest\n",
    "User4: Agreed, Vite is better.\n",
    "User3: Even the official React documentation now prefers Vite over CRA.\n",
    "User2: Oh, cool.\n",
    "User2: Thanks.\n",
    "User5: C++ is watching.\n",
    "User3: Alright, you win.\n",
    "User1: I've never written in C++.\n",
    "\"\"\""
   ]
  },
  {
   "cell_type": "code",
   "execution_count": 20,
   "metadata": {},
   "outputs": [
    {
     "name": "stdout",
     "output_type": "stream",
     "text": [
      "\n",
      "Summarize shortly the most important aspects of the plot of the following conversation between multiple users:\n",
      "\n",
      "\n",
      "            User1: Hi, how are you?\n",
      "            User2: I'm good, thanks! How about you?\n",
      "            User1: I'm doing well. Did you finish the project?\n",
      "            User2: Yes, I submitted it yesterday.\n",
      "            User1: Great! Let's discuss the next steps.\n",
      "        \n",
      "\n",
      "Summary:\n",
      "\n",
      "            User 2 announced that he finished the project\n",
      "        \n",
      "\n",
      "\n",
      "\n",
      "        Summarize shortly the most important aspects of the plot of the following conversation between multiple users:\n",
      "        \n",
      "User1: Python has the worst package manager I've worked with, IMO.\n",
      "User2: Npm?\n",
      "User3: What's so bad about npm?\n",
      "User2: I used npx CRA yesterday, and three errors popped up on a stable version.\n",
      "User1: I also have no clue what problem Anaconda is supposed to solve, because from my experience, it's even more complicated than venv.\n",
      "User3: Well, you're answering your own question.\n",
      "User3: Just don't use CRA.\n",
      "User3: Vite.\n",
      "User3: npm create vite@latest\n",
      "User4: Agreed, Vite is better.\n",
      "User3: Even the official React documentation now prefers Vite over CRA.\n",
      "User2: Oh, cool.\n",
      "User2: Thanks.\n",
      "User5: C++ is watching.\n",
      "User3: Alright, you win.\n",
      "User1: I've never written in C++.\n",
      "\n",
      "    \n"
     ]
    }
   ],
   "source": [
    "print(prompt.format(input=input_example))"
   ]
  },
  {
   "cell_type": "code",
   "execution_count": 25,
   "metadata": {},
   "outputs": [],
   "source": [
    "ollama_models_list = [\n",
    "    \"llama3.2:latest\",\n",
    "    \"mistral:latest\",\n",
    "    \"mistrallite:latest\",\n",
    "]"
   ]
  },
  {
   "cell_type": "code",
   "execution_count": 26,
   "metadata": {},
   "outputs": [
    {
     "name": "stdout",
     "output_type": "stream",
     "text": [
      "Here are the summaries of each conversation:\n",
      "\n",
      "**Conversation 1**\n",
      "\n",
      "The most important aspect of this conversation is that User2 announced that they have finished a project. This suggests that there was some anticipation or discussion about completing a task, and User1's response acknowledges their achievement.\n",
      "\n",
      "**Conversation 2**\n",
      "\n",
      "This conversation revolves around a debate about package managers, specifically Python's package manager and npm (Node Package Manager). Users discuss the issues with each manager, including errors encountered while using npm. Ultimately, User3 recommends Vite as a better alternative to both CRA (Create React App) and Anaconda, and the majority of users agree.\n",
      "-------------------------------------------------------------------------------------\n",
      " Summary 1: User 2 completed the project and User 1 is interested in discussing next steps.\n",
      "\n",
      "   Summary 2 (discussion on programming tools): Users expressed dissatisfaction with certain package managers (Python, npm) and suggested alternatives (Anaconda, venv, Vite). One user also criticized Create React App (CRA), stating a recent experience of encountering errors while using it. Other users agreed that Vite is a better alternative. Lastly, a mention was made about C++ in the context of the discussion on programming tools.\n",
      "-------------------------------------------------------------------------------------\n",
      "     Summary: User 2 announced that he finished the project, and User 1 asked about the next steps. The conversation then shifted to a discussion about package managers, with User 1 expressing his dissatisfaction with Python's package manager and mentioning Npm. User 3 suggested using Vite instead of CRA, which User 2 agreed to do. User 4 also weighed in on the topic, expressing a preference for Vite over CRA as well.\n",
      "-------------------------------------------------------------------------------------\n"
     ]
    }
   ],
   "source": [
    "for model in ollama_models_list:\n",
    "    llm = OllamaLLM(model=model)\n",
    "    print(llm.invoke(prompt.format(input=input_example)))\n",
    "    print(\"-------------------------------------------------------------------------------------\")"
   ]
  },
  {
   "cell_type": "code",
   "execution_count": null,
   "metadata": {},
   "outputs": [],
   "source": []
  }
 ],
 "metadata": {
  "kernelspec": {
   "display_name": ".venv",
   "language": "python",
   "name": "python3"
  },
  "language_info": {
   "codemirror_mode": {
    "name": "ipython",
    "version": 3
   },
   "file_extension": ".py",
   "mimetype": "text/x-python",
   "name": "python",
   "nbconvert_exporter": "python",
   "pygments_lexer": "ipython3",
   "version": "3.12.1"
  }
 },
 "nbformat": 4,
 "nbformat_minor": 2
}
